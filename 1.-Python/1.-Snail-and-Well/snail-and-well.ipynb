{
 "cells": [
  {
   "cell_type": "markdown",
   "metadata": {},
   "source": [
    "<img src=\"https://bit.ly/2VnXWr2\" width=\"100\" align=\"left\">"
   ]
  },
  {
   "cell_type": "markdown",
   "metadata": {},
   "source": [
    "# The Snail and the Well\n",
    "\n",
    "A snail falls at the bottom of a 125 cm well. Each day the snail rises 30 cm. But at night, while sleeping, slides 20 cm because the walls are wet. How many days does it take for the snail to escape the well?\n",
    "\n",
    "**Hint**: The snail gets out of the well when it surpasses the 125cm of height.\n",
    "\n",
    "## Tools\n",
    "\n",
    "1. Loop: **while**\n",
    "2. Conditional statements: **if-else**\n",
    "3. Function: **print()**\n",
    "\n",
    "## Tasks\n",
    "\n",
    "#### 1. Assign the challenge data to variables with representative names: `well_height`, `daily_distance`, `nightly_distance` and `snail_position`."
   ]
  },
  {
   "cell_type": "markdown",
   "metadata": {},
   "source": [
    "well_hight = 125\n",
    "daily_distance = 30\n",
    "nightly_distance = -20\n",
    "snail_position = 0"
   ]
  },
  {
   "cell_type": "markdown",
   "metadata": {},
   "source": [
    "#### 2. Create a variable `days` to keep count of the days that pass until the snail escapes the well. "
   ]
  },
  {
   "cell_type": "code",
   "execution_count": null,
   "metadata": {},
   "outputs": [],
   "source": [
    "well_hight = 125\n",
    "daily_distance = 30\n",
    "nightly_distance = -20\n",
    "snail_position = 0\n",
    "day = 0"
   ]
  },
  {
   "cell_type": "markdown",
   "metadata": {},
   "source": [
    "#### 3. Find the solution to the challenge using the variables defined above. "
   ]
  },
  {
   "cell_type": "code",
   "execution_count": 6,
   "metadata": {},
   "outputs": [
    {
     "name": "stdout",
     "output_type": "stream",
     "text": [
      "Keep Going\n",
      "snail_position 10\n",
      "day 1 \n",
      "Keep Going\n",
      "snail_position 20\n",
      "day 2 \n",
      "Keep Going\n",
      "snail_position 30\n",
      "day 3 \n",
      "Keep Going\n",
      "snail_position 40\n",
      "day 4 \n",
      "Keep Going\n",
      "snail_position 50\n",
      "day 5 \n",
      "Keep Going\n",
      "snail_position 60\n",
      "day 6 \n",
      "Keep Going\n",
      "snail_position 70\n",
      "day 7 \n",
      "Keep Going\n",
      "snail_position 80\n",
      "day 8 \n",
      "Keep Going\n",
      "snail_position 90\n",
      "day 9 \n",
      "Keep Going\n",
      "snail_position 100\n",
      "day 10 \n",
      "snail_position 130\n",
      "day 11 \n",
      "end\n"
     ]
    }
   ],
   "source": [
    "well_hight = 125\n",
    "daily_distance = 30\n",
    "nightly_distance = -20\n",
    "snail_position = 0\n",
    "day = 0\n",
    "\n",
    "while (snail_position < well_hight):\n",
    "    day += 1\n",
    "    snail_position += daily_distance \n",
    "    if (snail_position < well_hight):\n",
    "        print('Keep Going')\n",
    "        snail_position += nightly_distance\n",
    "    print ('snail_position %d' %snail_position)\n",
    "    print ('day %d ' % day)\n",
    "print(\"end\")\n"
   ]
  },
  {
   "cell_type": "markdown",
   "metadata": {},
   "source": [
    "#### 4. Print the solution."
   ]
  },
  {
   "cell_type": "code",
   "execution_count": 4,
   "metadata": {},
   "outputs": [
    {
     "name": "stdout",
     "output_type": "stream",
     "text": [
      "day 11 \n"
     ]
    }
   ],
   "source": [
    "print ('day %d ' % day)"
   ]
  },
  {
   "cell_type": "markdown",
   "metadata": {},
   "source": [
    "## Bonus\n",
    "The distance traveled by the snail each day is now defined by a list.\n",
    "```\n",
    "advance_cm = [30, 21, 33, 77, 44, 45, 23, 45, 12, 34, 55]\n",
    "```\n",
    "On the first day, the snail rises 30cm but during the night it slides 20cm. On the second day, the snail rises 21cm but during the night it slides 20cm, and so on. \n",
    "\n",
    "#### 1. How many days does it take for the snail to escape the well?\n",
    "Follow the same guidelines as in the previous challenge.\n",
    "\n",
    "**Hint**: Remember that the snail gets out of the well when it surpasses the 125cm of height."
   ]
  },
  {
   "cell_type": "code",
   "execution_count": 5,
   "metadata": {},
   "outputs": [
    {
     "name": "stdout",
     "output_type": "stream",
     "text": [
      "day 1 \n",
      "snail_position 30\n",
      "snail_position 10\n",
      "day 2 \n",
      "snail_position 31\n",
      "snail_position 11\n",
      "day 3 \n",
      "snail_position 44\n",
      "snail_position 24\n",
      "day 4 \n",
      "snail_position 101\n",
      "snail_position 81\n",
      "day 5 \n",
      "snail_position 125\n",
      "snail_position 125\n",
      "end\n"
     ]
    }
   ],
   "source": [
    "well_hight = 125\n",
    "nightly_distance = -20\n",
    "snail_position = 0\n",
    "day = 0\n",
    "lst = [30, 21, 33, 77, 44, 45, 23, 45, 12, 34, 55]\n",
    "\n",
    "while (snail_position < well_hight):\n",
    "    day += 1\n",
    "    print ('day %d ' % day)\n",
    "  \n",
    "    \n",
    "    dist = lst[0]\n",
    "    snail_position += dist\n",
    "    print ('snail_position %d' %snail_position) \n",
    "    if (snail_position < well_hight):\n",
    "        snail_position += nightly_distance\n",
    "        lst.remove(lst[0])\n",
    "      \n",
    "    print ('snail_position %d' %snail_position)   \n",
    "        \n",
    "print(\"end\")\n",
    "\n"
   ]
  },
  {
   "cell_type": "markdown",
   "metadata": {},
   "source": [
    "#### 2. What is its maximum displacement in one day? And its minimum? Calculate the displacement using only the travel distance of the days used to get out of the well. \n",
    "**Hint**: Remember that displacement means the total distance risen taking into account that the snail slides at night.  "
   ]
  },
  {
   "cell_type": "code",
   "execution_count": 19,
   "metadata": {},
   "outputs": [
    {
     "name": "stdout",
     "output_type": "stream",
     "text": [
      "day 1 \n",
      "snail_position 30\n",
      "snail_position 10\n",
      "displacement 10\n",
      "day 2 \n",
      "snail_position 31\n",
      "snail_position 11\n",
      "displacement 1\n",
      "day 3 \n",
      "snail_position 44\n",
      "snail_position 24\n",
      "displacement 13\n",
      "day 4 \n",
      "snail_position 101\n",
      "snail_position 81\n",
      "displacement 57\n",
      "day 5 \n",
      "snail_position 125\n",
      "snail_position 125\n",
      "displacement 57\n",
      "end\n",
      "Max Displacement: 57\n",
      "Min Displacement: 1\n",
      "Average Displacement: 20.25\n"
     ]
    }
   ],
   "source": [
    "well_hight = 125\n",
    "nightly_distance = -20\n",
    "snail_position = 0\n",
    "day = 0\n",
    "lst = [30, 21, 33, 77, 44, 45, 23, 45, 12, 34, 55]\n",
    "lst2 = []\n",
    "displacement = 0\n",
    "\n",
    "\n",
    "while (snail_position < well_hight):\n",
    "    \n",
    "    day += 1\n",
    "    print ('day %d ' % day)\n",
    "\n",
    "    \n",
    "    dist = lst[0]\n",
    "    snail_position += dist\n",
    "    print ('snail_position %d' %snail_position) \n",
    "    if (snail_position < well_hight):\n",
    "        snail_position += nightly_distance\n",
    "        displacement = lst[0] + nightly_distance\n",
    "        lst2.append(displacement)\n",
    "        lst.remove(lst[0])\n",
    "      \n",
    "    print ('snail_position %d' %snail_position)\n",
    "    print ('displacement %d' % displacement)     \n",
    "    \n",
    "    \n",
    "max_displacement = max(lst2)\n",
    "min_displacement = min(lst2)\n",
    "average_displacement = sum(lst2) / len(lst2)\n",
    "\n",
    "print(\"end\")\n",
    "print(\"Max Displacement:\", max_displacement)\n",
    "print(\"Min Displacement:\", min_displacement)\n",
    "print(\"Average Displacement:\", average_displacement)"
   ]
  },
  {
   "cell_type": "markdown",
   "metadata": {},
   "source": [
    "#### 3. What is its average progress? Take into account the snail slides at night."
   ]
  },
  {
   "cell_type": "code",
   "execution_count": 26,
   "metadata": {},
   "outputs": [
    {
     "name": "stdout",
     "output_type": "stream",
     "text": [
      "day 1 \n",
      "snail_position 30\n",
      "snail_position 10\n",
      "displacement 10\n",
      "day 2 \n",
      "snail_position 31\n",
      "snail_position 11\n",
      "displacement 1\n",
      "day 3 \n",
      "snail_position 44\n",
      "snail_position 24\n",
      "displacement 13\n",
      "day 4 \n",
      "snail_position 101\n",
      "snail_position 81\n",
      "displacement 57\n",
      "day 5 \n",
      "snail_position 125\n",
      "snail_position 125\n",
      "displacement 57\n",
      "end\n",
      "Max Displacement: 57\n",
      "Min Displacement: 1\n",
      "Average Displacement: 20.25\n"
     ]
    }
   ],
   "source": [
    "well_hight = 125\n",
    "nightly_distance = -20\n",
    "snail_position = 0\n",
    "day = 0\n",
    "lst = [30, 21, 33, 77, 44, 45, 23, 45, 12, 34, 55]\n",
    "lst2 = []\n",
    "displacement = 0\n",
    "\n",
    "\n",
    "while (snail_position < well_hight):\n",
    "    \n",
    "    day += 1\n",
    "    print ('day %d ' % day)\n",
    "\n",
    "    \n",
    "    dist = lst[0]\n",
    "    snail_position += dist\n",
    "    print ('snail_position %d' %snail_position) \n",
    "    if (snail_position < well_hight):\n",
    "        snail_position += nightly_distance\n",
    "        displacement = lst[0] + nightly_distance\n",
    "        lst2.append(displacement)\n",
    "        lst.remove(lst[0])\n",
    "      \n",
    "    print ('snail_position %d' %snail_position)\n",
    "    print ('displacement %d' % displacement)     \n",
    "    \n",
    "    \n",
    "max_displacement = max(lst2)\n",
    "min_displacement = min(lst2)\n",
    "average_displacement = sum(lst2) / len(lst2)\n",
    "\n",
    "print(\"end\")\n",
    "print(\"Max Displacement:\", max_displacement)\n",
    "print(\"Min Displacement:\", min_displacement)\n",
    "print(\"Average Displacement:\", average_displacement)"
   ]
  },
  {
   "cell_type": "markdown",
   "metadata": {},
   "source": [
    "#### 4. What is the standard deviation of its displacement? Take into account the snail slides at night."
   ]
  },
  {
   "cell_type": "code",
   "execution_count": 31,
   "metadata": {},
   "outputs": [
    {
     "name": "stdout",
     "output_type": "stream",
     "text": [
      "day 1 \n",
      "snail_position 30\n",
      "snail_position 10\n",
      "displacement 10\n",
      "day 2 \n",
      "snail_position 31\n",
      "snail_position 11\n",
      "displacement 1\n",
      "day 3 \n",
      "snail_position 44\n",
      "snail_position 24\n",
      "displacement 13\n",
      "day 4 \n",
      "snail_position 101\n",
      "snail_position 81\n",
      "displacement 57\n",
      "day 5 \n",
      "snail_position 125\n",
      "snail_position 125\n",
      "displacement 44\n",
      "end\n",
      "Max Displacement: 57\n",
      "Min Displacement: 1\n",
      "Average Displacement: 22.88888888888889\n",
      "standard_deviation: 23.07295193752007\n"
     ]
    }
   ],
   "source": [
    "import pandas as pd\n",
    "well_hight = 125\n",
    "nightly_distance = -20\n",
    "snail_position = 0\n",
    "day = 0\n",
    "lst = [30, 21, 33, 77, 44, 45, 23, 45, 12, 34, 55]\n",
    "lst2 = []\n",
    "displacement = 0\n",
    "\n",
    "\n",
    "while (snail_position < well_hight):\n",
    "    \n",
    "    day += 1\n",
    "    print ('day %d ' % day)\n",
    "\n",
    "    \n",
    "    dist = lst[0]\n",
    "    snail_position += dist\n",
    "    displacement = lst[0]\n",
    "    print ('snail_position %d' %snail_position) \n",
    "    if (snail_position < well_hight):\n",
    "        snail_position += nightly_distance\n",
    "        displacement += nightly_distance\n",
    "        lst2.append(displacement)\n",
    "        lst.remove(lst[0])\n",
    "    \n",
    "    lst2.append(displacement)\n",
    "    print ('snail_position %d' %snail_position)\n",
    "    print ('displacement %d' % displacement)     \n",
    "    \n",
    "    \n",
    "max_displacement = max(lst2)\n",
    "min_displacement =min(lst2)\n",
    "average_displacement = sum(lst2) / len(lst2)\n",
    "series = pd.Series(lst2)\n",
    "standard_deviation = series.std()\n",
    "print(\"end\")\n",
    "print(\"Max Displacement:\", max_displacement)\n",
    "print(\"Min Displacement:\", min_displacement)\n",
    "print(\"Average Displacement:\", average_displacement)\n",
    "print(\"standard_deviation:\", standard_deviation)\n"
   ]
  },
  {
   "cell_type": "code",
   "execution_count": null,
   "metadata": {},
   "outputs": [],
   "source": []
  }
 ],
 "metadata": {
  "kernelspec": {
   "display_name": "Python 3",
   "language": "python",
   "name": "python3"
  },
  "language_info": {
   "codemirror_mode": {
    "name": "ipython",
    "version": 3
   },
   "file_extension": ".py",
   "mimetype": "text/x-python",
   "name": "python",
   "nbconvert_exporter": "python",
   "pygments_lexer": "ipython3",
   "version": "3.8.8"
  }
 },
 "nbformat": 4,
 "nbformat_minor": 4
}
