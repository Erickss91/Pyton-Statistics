{
 "cells": [
  {
   "cell_type": "markdown",
   "metadata": {},
   "source": [
    "<img src=\"https://bit.ly/2VnXWr2\" width=\"100\" align=\"left\">"
   ]
  },
  {
   "cell_type": "markdown",
   "metadata": {},
   "source": [
    "# Temperature Sensor\n",
    "\n",
    "There is a temperature sensor in the processor of your company's server. The company wants to analyze the data provided by the sensor to decide if they should change the cooling system for a better one. As changing the cooling system is expensive and you are an excellent data analyst, you can't make a decision without basis.\n",
    "\n",
    "## Tools\n",
    "You don't necessarily need to use all the tools. Maybe you opt to use some of them or completely different ones, they are given to help you shape the exercise. Programming exercises can be solved in many different ways.\n",
    "1. Data structures: **lists**\n",
    "2. Loops: **list comprehension**\n",
    "3. Functions: **min, max, print, len**\n",
    "4. Conditional statements: **if-elif-else**\n",
    "\n",
    "## Tasks\n",
    "The temperatures measured throughout the 24 hours of a day are:"
   ]
  },
  {
   "cell_type": "code",
   "execution_count": 3,
   "metadata": {},
   "outputs": [],
   "source": [
    "temperatures_C = [33, 66, 65, 0, 59, 60, 62, 64, 70, 76, 80, 81, 80, 83, 90, 79, 61, 53, 50, 49, 53, 48, 45, 39]"
   ]
  },
  {
   "cell_type": "markdown",
   "metadata": {},
   "source": [
    "The first element of the list is the temperature at 12am, the second element is the temperature at 1am, and so on. \n",
    "\n",
    "The company has decided that if one of the following events occurs, then the cooling system needs to be replaced for a new one to avoid damaging the processor.\n",
    "* More than 4 temperatures are greater than or equal to 70ºC.\n",
    "* Any temperature is above 80ºC.\n",
    "* The average temperature exceeds 65ºC.\n",
    "\n",
    "Follow the steps so that you can make the decision.\n",
    "\n",
    "#### 1. Find the minimum temperature of the day and store it in a variable."
   ]
  },
  {
   "cell_type": "code",
   "execution_count": 4,
   "metadata": {},
   "outputs": [
    {
     "name": "stdout",
     "output_type": "stream",
     "text": [
      "0\n"
     ]
    }
   ],
   "source": [
    "min_temp = min(temperatures_C)\n",
    "print(min_temp)"
   ]
  },
  {
   "cell_type": "markdown",
   "metadata": {},
   "source": [
    "#### 2. Find the maximum temperature of the day and store it in a variable."
   ]
  },
  {
   "cell_type": "code",
   "execution_count": 5,
   "metadata": {},
   "outputs": [
    {
     "name": "stdout",
     "output_type": "stream",
     "text": [
      "90\n"
     ]
    }
   ],
   "source": [
    "max_temp = max(temperatures_C)\n",
    "print(max_temp)"
   ]
  },
  {
   "cell_type": "markdown",
   "metadata": {},
   "source": [
    "#### 3. Create a list with the temperatures that are greater than or equal to 70ºC. Store it in a variable."
   ]
  },
  {
   "cell_type": "code",
   "execution_count": 6,
   "metadata": {},
   "outputs": [
    {
     "name": "stdout",
     "output_type": "stream",
     "text": [
      "[70, 76, 80, 81, 80, 83, 90, 79]\n"
     ]
    }
   ],
   "source": [
    "list = []\n",
    "\n",
    "for i in temperatures_C:\n",
    "    if i >= 70:\n",
    "        list.append(i)\n",
    "print(list)\n",
    "    "
   ]
  },
  {
   "cell_type": "markdown",
   "metadata": {},
   "source": [
    "#### 4. Find the average temperature of the day and store it in a variable."
   ]
  },
  {
   "cell_type": "code",
   "execution_count": 7,
   "metadata": {},
   "outputs": [
    {
     "name": "stdout",
     "output_type": "stream",
     "text": [
      "Average Temp: 60.25\n"
     ]
    }
   ],
   "source": [
    "average_temp = sum(temperatures_C) / len(temperatures_C)\n",
    "print(\"Average Temp:\", average_temp)\n"
   ]
  },
  {
   "cell_type": "markdown",
   "metadata": {},
   "source": [
    "#### 5. Imagine that there was a sensor failure at 3am and the data for that specific hour was not recorded. How would you estimate the missing value? Replace the current value of the list at 3am for an estimation. "
   ]
  },
  {
   "cell_type": "code",
   "execution_count": 8,
   "metadata": {},
   "outputs": [
    {
     "name": "stdout",
     "output_type": "stream",
     "text": [
      "62.0\n",
      "[33, 66, 65, 62.0, 59, 60, 62, 64, 70, 76, 80, 81, 80, 83, 90, 79, 61, 53, 50, 49, 53, 48, 45, 39]\n"
     ]
    }
   ],
   "source": [
    "missing_value = (temperatures_C[2] + temperatures_C[4]) / 2\n",
    "print(missing_value)\n",
    "\n",
    "temperatures_C[3] = missing_value\n",
    "\n",
    "print(temperatures_C)"
   ]
  },
  {
   "cell_type": "markdown",
   "metadata": {},
   "source": [
    "#### 6. Bonus: the maintenance staff is from the United States and does not understand the international metric system. Help them by converting the temperatures from Celsius to Fahrenheit.\n",
    "To know more about temperature conversion check this [link](https://en.wikipedia.org/wiki/Conversion_of_units_of_temperature).\n",
    "\n",
    "**Formula**: \n",
    "\n",
    "$F = 1.8 * C + 32$"
   ]
  },
  {
   "cell_type": "code",
   "execution_count": 9,
   "metadata": {},
   "outputs": [
    {
     "name": "stdout",
     "output_type": "stream",
     "text": [
      "[91.4, 150.8, 149.0, 143.60000000000002, 138.2, 140.0, 143.60000000000002, 147.2, 158.0, 168.8, 176.0, 177.8, 176.0, 181.4, 194.0, 174.20000000000002, 141.8, 127.4, 122.0, 120.2, 127.4, 118.4, 113.0, 102.2]\n"
     ]
    }
   ],
   "source": [
    "temperatures_F = []\n",
    "\n",
    "for i in temperatures_C:\n",
    "    f = i*1.8 + 32\n",
    "    temperatures_F.append(f)\n",
    "print(temperatures_F)"
   ]
  },
  {
   "cell_type": "markdown",
   "metadata": {},
   "source": [
    "#### 7. Make a decision!\n",
    "Now it's time to make a decision taking into account what you have seen until now. \n",
    "\n",
    "Remember that if one of the following events occurs, then the cooling system needs to be replaced for a new one to avoid damaging the processor.\n",
    "* More than 4 temperatures are greater than or equal to 70ºC.\n",
    "* Any temperature is above 80ºC.\n",
    "* The average temperature exceeds 65ºC.\n",
    "\n",
    "#### To make your decision, check if any of the three conditions above is met. You might need to use some of the variables you created in steps 1 to 6. Print a message to show if the cooling system needs to be changed or not."
   ]
  },
  {
   "cell_type": "code",
   "execution_count": 19,
   "metadata": {},
   "outputs": [
    {
     "name": "stdout",
     "output_type": "stream",
     "text": [
      "Don't need to be replaced\n",
      "Don't need to be replaced\n",
      "Don't need to be replaced\n",
      "Don't need to be replaced\n",
      "Don't need to be replaced\n",
      "Don't need to be replaced\n",
      "Don't need to be replaced\n",
      "Don't need to be replaced\n",
      "Don't need to be replaced\n",
      "Don't need to be replaced\n",
      "Don't need to be replaced\n",
      "Need to be replaced2\n",
      "temp 81 C\n"
     ]
    }
   ],
   "source": [
    "alert = 0\n",
    "\n",
    "for i in temperatures_C:\n",
    "    if i >= 70:\n",
    "        alert += 1\n",
    "    if alert > 4:\n",
    "        print(\"Need to be replaced1\")\n",
    "        break\n",
    "    if i > 80:\n",
    "        print(\"Need to be replaced2\")\n",
    "        break\n",
    "    if average_temp > 65:\n",
    "        print(\"Need to be replaced3\")\n",
    "    else:\n",
    "        print(\"Don't need to be replaced\")\n",
    "print('temp %d' %i, 'C')"
   ]
  },
  {
   "cell_type": "markdown",
   "metadata": {},
   "source": [
    "## Bonus\n",
    "\n",
    "The company has decided that the decision you made is not valid. They want you to analyze the data again but this time, the conditions that need to be met in order to change the cooling system are different.\n",
    "\n",
    "This time, if one of the following events occurs, then the cooling system needs to be replaced:\n",
    "* The temperature is greater than 70ºC during more than 4 consecutive hours.\n",
    "* Any temperature is above 80ºC.\n",
    "* The average temperature exceeds 65ºC.\n",
    "\n",
    "Follow the steps so that you can make the decision.\n",
    "\n",
    "#### 1. Create a list with the hours where the temperature is greater than 70ºC. Store it in a variable."
   ]
  },
  {
   "cell_type": "code",
   "execution_count": 31,
   "metadata": {},
   "outputs": [
    {
     "name": "stdout",
     "output_type": "stream",
     "text": [
      "Need to be replaced1\n",
      "Need to be replaced1\n",
      "Need to be replaced1\n",
      "Need to be replaced1\n",
      "[8, 9, 10, 11, 12, 13, 14, 15]\n"
     ]
    }
   ],
   "source": [
    "alert = 0\n",
    "temp_row = 0\n",
    "hour = 0\n",
    "list_hour = []\n",
    "\n",
    "for i in temperatures_C:\n",
    "    if i >= 70:  \n",
    "        temp_row += 1\n",
    "        list_hour.append(hour)\n",
    "        \n",
    "        if temp_row > 4:\n",
    "            print(\"Need to be replaced1\")\n",
    "    else: \n",
    "        temp_row = 0\n",
    "    hour += 1\n",
    "print (list_hour)"
   ]
  },
  {
   "cell_type": "markdown",
   "metadata": {},
   "source": [
    "#### 2. Check if the list you created in step 1 has more than 4 consecutive hours. "
   ]
  },
  {
   "cell_type": "code",
   "execution_count": 35,
   "metadata": {},
   "outputs": [
    {
     "name": "stdout",
     "output_type": "stream",
     "text": [
      "Needs to be replaced\n",
      "Needs to be replaced\n",
      "Needs to be replaced\n",
      "Needs to be replaced\n"
     ]
    }
   ],
   "source": [
    "hora_anterior = 0\n",
    "hora_seguida = 0\n",
    "\n",
    "for i in list_hour:\n",
    "    if i == hora_anterior + 1:\n",
    "        hora_seguida += 1\n",
    "        if hora_seguida > 4:\n",
    "            print (\"Needs to be replaced\")\n",
    "    else : \n",
    "        hora_seguida = 1\n",
    "        \n",
    "    hora_anterior = i"
   ]
  },
  {
   "cell_type": "markdown",
   "metadata": {},
   "source": [
    "#### 3. Make the decision!\n",
    "To make your decision, check if any of the three conditions is met. Print a message to show if the cooling system needs to be changed or not."
   ]
  },
  {
   "cell_type": "code",
   "execution_count": 25,
   "metadata": {},
   "outputs": [
    {
     "name": "stdout",
     "output_type": "stream",
     "text": [
      "0\n",
      "Don't need to be replaced - Condition 1\n",
      "Don't need to be replaced - Condition 2\n",
      "Don't need to be replaced - Condition 3\n",
      "1\n",
      "Don't need to be replaced - Condition 1\n",
      "Don't need to be replaced - Condition 2\n",
      "Don't need to be replaced - Condition 3\n",
      "2\n",
      "Don't need to be replaced - Condition 1\n",
      "Don't need to be replaced - Condition 2\n",
      "Don't need to be replaced - Condition 3\n",
      "3\n",
      "Don't need to be replaced - Condition 1\n",
      "Don't need to be replaced - Condition 2\n",
      "Don't need to be replaced - Condition 3\n",
      "4\n",
      "Don't need to be replaced - Condition 1\n",
      "Don't need to be replaced - Condition 2\n",
      "Don't need to be replaced - Condition 3\n",
      "5\n",
      "Don't need to be replaced - Condition 1\n",
      "Don't need to be replaced - Condition 2\n",
      "Don't need to be replaced - Condition 3\n",
      "6\n",
      "Don't need to be replaced - Condition 1\n",
      "Don't need to be replaced - Condition 2\n",
      "Don't need to be replaced - Condition 3\n",
      "7\n",
      "Don't need to be replaced - Condition 1\n",
      "Don't need to be replaced - Condition 2\n",
      "Don't need to be replaced - Condition 3\n",
      "8\n",
      "Don't need to be replaced - Condition 2\n",
      "Don't need to be replaced - Condition 3\n",
      "9\n",
      "Don't need to be replaced - Condition 2\n",
      "Don't need to be replaced - Condition 3\n",
      "10\n",
      "Don't need to be replaced - Condition 2\n",
      "Don't need to be replaced - Condition 3\n",
      "11\n",
      "Need to be replaced - Condition 2\n",
      "Don't need to be replaced - Condition 3\n",
      "12\n",
      "Need to be replaced - Condition 1\n",
      "Don't need to be replaced - Condition 2\n",
      "Don't need to be replaced - Condition 3\n",
      "13\n",
      "Need to be replaced - Condition 1\n",
      "Need to be replaced - Condition 2\n",
      "Don't need to be replaced - Condition 3\n",
      "14\n",
      "Need to be replaced - Condition 1\n",
      "Need to be replaced - Condition 2\n",
      "Don't need to be replaced - Condition 3\n",
      "15\n",
      "Need to be replaced - Condition 1\n",
      "Don't need to be replaced - Condition 2\n",
      "Don't need to be replaced - Condition 3\n",
      "16\n",
      "Don't need to be replaced - Condition 1\n",
      "Don't need to be replaced - Condition 2\n",
      "Don't need to be replaced - Condition 3\n",
      "17\n",
      "Don't need to be replaced - Condition 1\n",
      "Don't need to be replaced - Condition 2\n",
      "Don't need to be replaced - Condition 3\n",
      "18\n",
      "Don't need to be replaced - Condition 1\n",
      "Don't need to be replaced - Condition 2\n",
      "Don't need to be replaced - Condition 3\n",
      "19\n",
      "Don't need to be replaced - Condition 1\n",
      "Don't need to be replaced - Condition 2\n",
      "Don't need to be replaced - Condition 3\n",
      "20\n",
      "Don't need to be replaced - Condition 1\n",
      "Don't need to be replaced - Condition 2\n",
      "Don't need to be replaced - Condition 3\n",
      "21\n",
      "Don't need to be replaced - Condition 1\n",
      "Don't need to be replaced - Condition 2\n",
      "Don't need to be replaced - Condition 3\n",
      "22\n",
      "Don't need to be replaced - Condition 1\n",
      "Don't need to be replaced - Condition 2\n",
      "Don't need to be replaced - Condition 3\n",
      "23\n",
      "Don't need to be replaced - Condition 1\n",
      "Don't need to be replaced - Condition 2\n",
      "Don't need to be replaced - Condition 3\n"
     ]
    }
   ],
   "source": [
    "alert = 0\n",
    "temp_row = 0\n",
    "hour = 0\n",
    "\n",
    "for i in temperatures_C:\n",
    "    print(hour)\n",
    "    if i >= 70:\n",
    "        alert += 1\n",
    "        temp_row += 1\n",
    "        if temp_row > 4:\n",
    "            print(\"Need to be replaced - Condition 1\") \n",
    "    else:\n",
    "        temp_row = 0\n",
    "        print(\"Don't need to be replaced - Condition 1\")\n",
    "        \n",
    "    if i > 80:\n",
    "        print(\"Need to be replaced - Condition 2\")\n",
    "    else:\n",
    "        print(\"Don't need to be replaced - Condition 2\")\n",
    "    if average_temp > 65:\n",
    "        print(\"Need to be replaced - Condition 3\")\n",
    "    else:\n",
    "        print(\"Don't need to be replaced - Condition 3\")\n",
    "    hour += 1\n"
   ]
  },
  {
   "cell_type": "markdown",
   "metadata": {},
   "source": [
    "#### 4. Find the average value of the temperature lists (ºC and ºF). What is the relation between both average values?"
   ]
  },
  {
   "cell_type": "code",
   "execution_count": 27,
   "metadata": {},
   "outputs": [
    {
     "name": "stdout",
     "output_type": "stream",
     "text": [
      "Average Temp (C): 62.833333333333336\n",
      "Average Temp (F): 145.1\n",
      "0.4330346887204227\n"
     ]
    }
   ],
   "source": [
    "average_tempC = sum(temperatures_C) / len(temperatures_C)\n",
    "average_tempF = sum(temperatures_F) / len(temperatures_F)\n",
    "print(\"Average Temp (C):\", average_tempC)\n",
    "print(\"Average Temp (F):\", average_tempF)\n",
    "\n",
    "relation = average_tempC/average_tempF\n",
    "print(relation)"
   ]
  },
  {
   "cell_type": "markdown",
   "metadata": {},
   "source": [
    "#### 5. Find the standard deviation of the temperature lists (ºC and ºF). What is the relation between both standard deviations?"
   ]
  },
  {
   "cell_type": "code",
   "execution_count": 34,
   "metadata": {},
   "outputs": [
    {
     "name": "stdout",
     "output_type": "stream",
     "text": [
      "standard_deviation(c): 14.948219805793558\n",
      "standard_deviation(F): 26.906795650428407\n",
      "0.5555555555555555\n"
     ]
    }
   ],
   "source": [
    "import pandas as pd\n",
    "\n",
    "series = pd.Series(temperatures_C)\n",
    "standard_deviation = series.std()\n",
    "\n",
    "series2 = pd.Series(temperatures_F)\n",
    "standard_deviation2 = series2.std()\n",
    "\n",
    "print(\"standard_deviation(c):\", standard_deviation)\n",
    "print(\"standard_deviation(F):\", standard_deviation2)\n",
    "\n",
    "relation2 = standard_deviation/standard_deviation2\n",
    "print(relation2)"
   ]
  },
  {
   "cell_type": "code",
   "execution_count": null,
   "metadata": {},
   "outputs": [],
   "source": []
  },
  {
   "cell_type": "code",
   "execution_count": null,
   "metadata": {},
   "outputs": [],
   "source": []
  }
 ],
 "metadata": {
  "kernelspec": {
   "display_name": "Python 3",
   "language": "python",
   "name": "python3"
  },
  "language_info": {
   "codemirror_mode": {
    "name": "ipython",
    "version": 3
   },
   "file_extension": ".py",
   "mimetype": "text/x-python",
   "name": "python",
   "nbconvert_exporter": "python",
   "pygments_lexer": "ipython3",
   "version": "3.8.8"
  }
 },
 "nbformat": 4,
 "nbformat_minor": 2
}
